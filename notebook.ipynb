{
 "cells": [
  {
   "cell_type": "markdown",
   "id": "18ce13ab",
   "metadata": {
    "id": "18ce13ab"
   },
   "source": [
    "# Import Library"
   ]
  },
  {
   "cell_type": "code",
   "execution_count": 5,
   "id": "4b8a6b9e",
   "metadata": {
    "execution": {
     "iopub.execute_input": "2025-05-23T14:07:28.417857Z",
     "iopub.status.busy": "2025-05-23T14:07:28.415683Z",
     "iopub.status.idle": "2025-05-23T14:07:28.427880Z",
     "shell.execute_reply": "2025-05-23T14:07:28.424501Z",
     "shell.execute_reply.started": "2025-05-23T14:07:28.417814Z"
    },
    "id": "4b8a6b9e",
    "trusted": true
   },
   "outputs": [],
   "source": [
    "import pandas as pd\n",
    "from sklearn.model_selection import train_test_split\n",
    "from sklearn.metrics.pairwise import cosine_similarity\n",
    "import numpy as np\n",
    "import matplotlib.pyplot as plt\n",
    "import seaborn as sns"
   ]
  },
  {
   "cell_type": "markdown",
   "id": "c19c25b8",
   "metadata": {
    "id": "c19c25b8"
   },
   "source": [
    "Kode di atas bertujuan untuk melakukan impor library yang digunakan dalam proyek ini, seperti pandas untuk membuat dataframe, numpy untuk melakukan proses aritmatika, scikit-learn digunakan untuk data split dan menghitung similarity."
   ]
  },
  {
   "cell_type": "markdown",
   "id": "5e6d2ea4",
   "metadata": {
    "id": "5e6d2ea4"
   },
   "source": [
    "# Data Load"
   ]
  },
  {
   "cell_type": "code",
   "execution_count": 6,
   "id": "R7-3Wo44HSuy",
   "metadata": {
    "colab": {
     "base_uri": "https://localhost:8080/"
    },
    "execution": {
     "iopub.execute_input": "2025-05-23T14:07:28.431196Z",
     "iopub.status.busy": "2025-05-23T14:07:28.430934Z",
     "iopub.status.idle": "2025-05-23T14:07:41.730431Z",
     "shell.execute_reply": "2025-05-23T14:07:41.724260Z",
     "shell.execute_reply.started": "2025-05-23T14:07:28.431173Z"
    },
    "id": "R7-3Wo44HSuy",
    "outputId": "7f1dafc1-b613-496b-80d7-b51e4e9b4092",
    "trusted": true
   },
   "outputs": [],
   "source": [
    "#Data Loading\n",
    "movies_df = pd.read_csv('/kaggle/input/movie-recommendation-system/movies.csv')\n",
    "ratings_df = pd.read_csv('/kaggle/input/movie-recommendation-system/ratings.csv')"
   ]
  },
  {
   "cell_type": "markdown",
   "id": "7f3eead3",
   "metadata": {
    "id": "7f3eead3"
   },
   "source": [
    "Kode di atas bertujuan untuk membuat dataframe `movies_df` dan `ratings_df` dengan membaca file CSV yang ada."
   ]
  },
  {
   "cell_type": "code",
   "execution_count": 7,
   "id": "6d1b2286",
   "metadata": {
    "colab": {
     "base_uri": "https://localhost:8080/",
     "height": 206
    },
    "execution": {
     "iopub.execute_input": "2025-05-23T14:07:41.731681Z",
     "iopub.status.busy": "2025-05-23T14:07:41.731409Z",
     "iopub.status.idle": "2025-05-23T14:07:41.768796Z",
     "shell.execute_reply": "2025-05-23T14:07:41.760199Z",
     "shell.execute_reply.started": "2025-05-23T14:07:41.731653Z"
    },
    "id": "6d1b2286",
    "outputId": "262c843f-4a1c-4dde-9558-a54ae2e96241",
    "trusted": true
   },
   "outputs": [
    {
     "data": {
      "text/html": [
       "<div>\n",
       "<style scoped>\n",
       "    .dataframe tbody tr th:only-of-type {\n",
       "        vertical-align: middle;\n",
       "    }\n",
       "\n",
       "    .dataframe tbody tr th {\n",
       "        vertical-align: top;\n",
       "    }\n",
       "\n",
       "    .dataframe thead th {\n",
       "        text-align: right;\n",
       "    }\n",
       "</style>\n",
       "<table border=\"1\" class=\"dataframe\">\n",
       "  <thead>\n",
       "    <tr style=\"text-align: right;\">\n",
       "      <th></th>\n",
       "      <th>movieId</th>\n",
       "      <th>title</th>\n",
       "      <th>genres</th>\n",
       "    </tr>\n",
       "  </thead>\n",
       "  <tbody>\n",
       "    <tr>\n",
       "      <th>0</th>\n",
       "      <td>1</td>\n",
       "      <td>Toy Story (1995)</td>\n",
       "      <td>Adventure|Animation|Children|Comedy|Fantasy</td>\n",
       "    </tr>\n",
       "    <tr>\n",
       "      <th>1</th>\n",
       "      <td>2</td>\n",
       "      <td>Jumanji (1995)</td>\n",
       "      <td>Adventure|Children|Fantasy</td>\n",
       "    </tr>\n",
       "    <tr>\n",
       "      <th>2</th>\n",
       "      <td>3</td>\n",
       "      <td>Grumpier Old Men (1995)</td>\n",
       "      <td>Comedy|Romance</td>\n",
       "    </tr>\n",
       "    <tr>\n",
       "      <th>3</th>\n",
       "      <td>4</td>\n",
       "      <td>Waiting to Exhale (1995)</td>\n",
       "      <td>Comedy|Drama|Romance</td>\n",
       "    </tr>\n",
       "    <tr>\n",
       "      <th>4</th>\n",
       "      <td>5</td>\n",
       "      <td>Father of the Bride Part II (1995)</td>\n",
       "      <td>Comedy</td>\n",
       "    </tr>\n",
       "  </tbody>\n",
       "</table>\n",
       "</div>"
      ],
      "text/plain": [
       "   movieId                               title  \\\n",
       "0        1                    Toy Story (1995)   \n",
       "1        2                      Jumanji (1995)   \n",
       "2        3             Grumpier Old Men (1995)   \n",
       "3        4            Waiting to Exhale (1995)   \n",
       "4        5  Father of the Bride Part II (1995)   \n",
       "\n",
       "                                        genres  \n",
       "0  Adventure|Animation|Children|Comedy|Fantasy  \n",
       "1                   Adventure|Children|Fantasy  \n",
       "2                               Comedy|Romance  \n",
       "3                         Comedy|Drama|Romance  \n",
       "4                                       Comedy  "
      ]
     },
     "execution_count": 7,
     "metadata": {},
     "output_type": "execute_result"
    }
   ],
   "source": [
    "movies_df.head()"
   ]
  },
  {
   "cell_type": "markdown",
   "id": "0bfe34a1",
   "metadata": {
    "id": "0bfe34a1"
   },
   "source": [
    "Kode di atas bertujuan untuk mengetahui isi dari dataframe `movies_df` untuk mengecek apakah dataframe yang ada sudah sesuai."
   ]
  },
  {
   "cell_type": "code",
   "execution_count": 8,
   "id": "188ab6e9",
   "metadata": {
    "colab": {
     "base_uri": "https://localhost:8080/",
     "height": 206
    },
    "execution": {
     "iopub.execute_input": "2025-05-23T14:07:41.769947Z",
     "iopub.status.busy": "2025-05-23T14:07:41.769702Z",
     "iopub.status.idle": "2025-05-23T14:07:42.866861Z",
     "shell.execute_reply": "2025-05-23T14:07:42.860869Z",
     "shell.execute_reply.started": "2025-05-23T14:07:41.769922Z"
    },
    "id": "188ab6e9",
    "outputId": "8bd8bb5a-85ea-4ad4-afc8-fbb3579719f2",
    "trusted": true
   },
   "outputs": [
    {
     "data": {
      "text/html": [
       "<div>\n",
       "<style scoped>\n",
       "    .dataframe tbody tr th:only-of-type {\n",
       "        vertical-align: middle;\n",
       "    }\n",
       "\n",
       "    .dataframe tbody tr th {\n",
       "        vertical-align: top;\n",
       "    }\n",
       "\n",
       "    .dataframe thead th {\n",
       "        text-align: right;\n",
       "    }\n",
       "</style>\n",
       "<table border=\"1\" class=\"dataframe\">\n",
       "  <thead>\n",
       "    <tr style=\"text-align: right;\">\n",
       "      <th></th>\n",
       "      <th>userId</th>\n",
       "      <th>movieId</th>\n",
       "      <th>rating</th>\n",
       "      <th>timestamp</th>\n",
       "    </tr>\n",
       "  </thead>\n",
       "  <tbody>\n",
       "    <tr>\n",
       "      <th>15347762</th>\n",
       "      <td>99476</td>\n",
       "      <td>104374</td>\n",
       "      <td>3.5</td>\n",
       "      <td>1467897440</td>\n",
       "    </tr>\n",
       "    <tr>\n",
       "      <th>16647840</th>\n",
       "      <td>107979</td>\n",
       "      <td>2634</td>\n",
       "      <td>4.0</td>\n",
       "      <td>994007728</td>\n",
       "    </tr>\n",
       "    <tr>\n",
       "      <th>23915192</th>\n",
       "      <td>155372</td>\n",
       "      <td>1614</td>\n",
       "      <td>3.0</td>\n",
       "      <td>1097887531</td>\n",
       "    </tr>\n",
       "    <tr>\n",
       "      <th>10052313</th>\n",
       "      <td>65225</td>\n",
       "      <td>7153</td>\n",
       "      <td>4.0</td>\n",
       "      <td>1201382275</td>\n",
       "    </tr>\n",
       "    <tr>\n",
       "      <th>12214125</th>\n",
       "      <td>79161</td>\n",
       "      <td>500</td>\n",
       "      <td>5.0</td>\n",
       "      <td>1488915363</td>\n",
       "    </tr>\n",
       "  </tbody>\n",
       "</table>\n",
       "</div>"
      ],
      "text/plain": [
       "          userId  movieId  rating   timestamp\n",
       "15347762   99476   104374     3.5  1467897440\n",
       "16647840  107979     2634     4.0   994007728\n",
       "23915192  155372     1614     3.0  1097887531\n",
       "10052313   65225     7153     4.0  1201382275\n",
       "12214125   79161      500     5.0  1488915363"
      ]
     },
     "execution_count": 8,
     "metadata": {},
     "output_type": "execute_result"
    }
   ],
   "source": [
    "ratings_df = ratings_df.sample(n=200000, random_state=42)\n",
    "ratings_df.head()"
   ]
  },
  {
   "cell_type": "markdown",
   "id": "54bb7246",
   "metadata": {
    "id": "54bb7246"
   },
   "source": [
    "Kode di atas bertujuan untuk mengetahui isi dari dataframe `ratings_df` untuk mengecek apakah dataframe yang ada sudah sesuai. Selain itu, kita hanya akan mengambil sample sebanyak 200.000 data dikarenakan apabila kita memakai keseluruhan data sebanyak 250.000.000, maka akan memakan banyak waktu dan penyimpnanan sehingga proses pengembangan model sistem rekomendasi akan sangat tidak optimal."
   ]
  },
  {
   "cell_type": "markdown",
   "id": "399ca200",
   "metadata": {
    "id": "399ca200"
   },
   "source": [
    "# Data Understanding"
   ]
  },
  {
   "cell_type": "code",
   "execution_count": 9,
   "id": "741c42c2",
   "metadata": {
    "colab": {
     "base_uri": "https://localhost:8080/"
    },
    "execution": {
     "iopub.execute_input": "2025-05-23T14:07:42.867967Z",
     "iopub.status.busy": "2025-05-23T14:07:42.867700Z",
     "iopub.status.idle": "2025-05-23T14:07:42.877997Z",
     "shell.execute_reply": "2025-05-23T14:07:42.873589Z",
     "shell.execute_reply.started": "2025-05-23T14:07:42.867943Z"
    },
    "id": "741c42c2",
    "outputId": "5499a1d2-b721-4b10-e07b-b5fa6974fba6",
    "trusted": true
   },
   "outputs": [
    {
     "name": "stdout",
     "output_type": "stream",
     "text": [
      "Dataframe Movies memiliki 62423 baris dan 3 kolom\n",
      "Dataframe Ratings memiliki 200000 baris dan 4 kolom\n"
     ]
    }
   ],
   "source": [
    "# Struktur dataframe movies\n",
    "movies_row = movies_df.shape[0]\n",
    "movies_column = movies_df.shape[1]\n",
    "\n",
    "# Struktur dataframe ratings\n",
    "ratings_row = ratings_df.shape[0]\n",
    "ratings_column = ratings_df.shape[1]\n",
    "\n",
    "print('Dataframe Movies memiliki', movies_row, 'baris dan', movies_column, 'kolom')\n",
    "print('Dataframe Ratings memiliki', ratings_row, 'baris dan', ratings_column, 'kolom')"
   ]
  },
  {
   "cell_type": "markdown",
   "id": "OOFWOTO1j07p",
   "metadata": {
    "id": "OOFWOTO1j07p"
   },
   "source": [
    "Kode di atas bertujuan untuk mengetahui jumlah baris dan kolom pada masing-masing dataset."
   ]
  },
  {
   "cell_type": "markdown",
   "id": "9YZnFF0Yk8Bc",
   "metadata": {
    "id": "9YZnFF0Yk8Bc"
   },
   "source": [
    "Insight:\n",
    "- Dataset `movies_df` memiliki 62423 baris dan 3 kolom.\n",
    "- Dataset `ratings_df` memiliki 200.000 baris dan 4 kolom."
   ]
  },
  {
   "cell_type": "code",
   "execution_count": 10,
   "id": "baec620f",
   "metadata": {
    "colab": {
     "base_uri": "https://localhost:8080/"
    },
    "execution": {
     "iopub.execute_input": "2025-05-23T14:07:42.880549Z",
     "iopub.status.busy": "2025-05-23T14:07:42.880308Z",
     "iopub.status.idle": "2025-05-23T14:07:42.905702Z",
     "shell.execute_reply": "2025-05-23T14:07:42.901041Z",
     "shell.execute_reply.started": "2025-05-23T14:07:42.880525Z"
    },
    "id": "baec620f",
    "outputId": "cffbd495-2ba7-4aad-d00e-e307d45b6f7d",
    "trusted": true
   },
   "outputs": [
    {
     "name": "stdout",
     "output_type": "stream",
     "text": [
      "<class 'pandas.core.frame.DataFrame'>\n",
      "RangeIndex: 62423 entries, 0 to 62422\n",
      "Data columns (total 3 columns):\n",
      " #   Column   Non-Null Count  Dtype \n",
      "---  ------   --------------  ----- \n",
      " 0   movieId  62423 non-null  int64 \n",
      " 1   title    62423 non-null  object\n",
      " 2   genres   62423 non-null  object\n",
      "dtypes: int64(1), object(2)\n",
      "memory usage: 1.4+ MB\n"
     ]
    }
   ],
   "source": [
    "movies_df.info()"
   ]
  },
  {
   "cell_type": "markdown",
   "id": "i890-Dupj5ip",
   "metadata": {
    "id": "i890-Dupj5ip"
   },
   "source": [
    "Kode di atas bertujuan untuk mengetahui beberapa informasi pada tiap kolom yang ada pada dataset `movies_df` seperti Non-Null count dan tipe data."
   ]
  },
  {
   "cell_type": "code",
   "execution_count": 11,
   "id": "0d93d05d",
   "metadata": {
    "colab": {
     "base_uri": "https://localhost:8080/"
    },
    "execution": {
     "iopub.execute_input": "2025-05-23T14:07:42.908295Z",
     "iopub.status.busy": "2025-05-23T14:07:42.908066Z",
     "iopub.status.idle": "2025-05-23T14:07:42.923455Z",
     "shell.execute_reply": "2025-05-23T14:07:42.918109Z",
     "shell.execute_reply.started": "2025-05-23T14:07:42.908274Z"
    },
    "id": "0d93d05d",
    "outputId": "fc1f473b-8a94-4f25-f77c-00855b460394",
    "trusted": true
   },
   "outputs": [
    {
     "name": "stdout",
     "output_type": "stream",
     "text": [
      "<class 'pandas.core.frame.DataFrame'>\n",
      "Index: 200000 entries, 15347762 to 14282133\n",
      "Data columns (total 4 columns):\n",
      " #   Column     Non-Null Count   Dtype  \n",
      "---  ------     --------------   -----  \n",
      " 0   userId     200000 non-null  int64  \n",
      " 1   movieId    200000 non-null  int64  \n",
      " 2   rating     200000 non-null  float64\n",
      " 3   timestamp  200000 non-null  int64  \n",
      "dtypes: float64(1), int64(3)\n",
      "memory usage: 7.6 MB\n"
     ]
    }
   ],
   "source": [
    "ratings_df.info()"
   ]
  },
  {
   "cell_type": "markdown",
   "id": "LXPP0rv7kGnz",
   "metadata": {
    "id": "LXPP0rv7kGnz"
   },
   "source": [
    "Kode di atas bertujuan untuk mengetahui beberapa informasi pada tiap kolom yang ada pada dataset `ratings_df` seperti Non-Null count dan tipe data."
   ]
  },
  {
   "cell_type": "code",
   "execution_count": 12,
   "id": "241134e7-cb9e-4414-9e90-e64d59fd4763",
   "metadata": {
    "execution": {
     "iopub.execute_input": "2025-05-23T14:07:42.925576Z",
     "iopub.status.busy": "2025-05-23T14:07:42.925092Z",
     "iopub.status.idle": "2025-05-23T14:07:42.938872Z",
     "shell.execute_reply": "2025-05-23T14:07:42.934322Z",
     "shell.execute_reply.started": "2025-05-23T14:07:42.925552Z"
    },
    "trusted": true
   },
   "outputs": [
    {
     "name": "stdout",
     "output_type": "stream",
     "text": [
      "Jumlah pengguna: 80869\n"
     ]
    }
   ],
   "source": [
    "print('Jumlah pengguna:', len(ratings_df['userId'].unique()))"
   ]
  },
  {
   "cell_type": "markdown",
   "id": "8fe08131",
   "metadata": {},
   "source": [
    "Kode di atas bertujuan untuk mengetahui jumlah pengguna yang ada pada dataset `ratings_df`"
   ]
  },
  {
   "cell_type": "markdown",
   "id": "7fbc59cc",
   "metadata": {},
   "source": [
    "Insight: Terdapat 80.869 pengguna pada dataset `ratings_df`"
   ]
  },
  {
   "cell_type": "code",
   "execution_count": 13,
   "id": "d7768cb8",
   "metadata": {
    "colab": {
     "base_uri": "https://localhost:8080/"
    },
    "execution": {
     "iopub.execute_input": "2025-05-23T14:07:42.940606Z",
     "iopub.status.busy": "2025-05-23T14:07:42.940369Z",
     "iopub.status.idle": "2025-05-23T14:07:42.976026Z",
     "shell.execute_reply": "2025-05-23T14:07:42.972768Z",
     "shell.execute_reply.started": "2025-05-23T14:07:42.940576Z"
    },
    "id": "d7768cb8",
    "outputId": "f2e66024-cdd3-491a-b64f-c2249dd77d88",
    "trusted": true
   },
   "outputs": [
    {
     "name": "stdout",
     "output_type": "stream",
     "text": [
      "Jumlah missing values:\n",
      " movieId    0\n",
      "title      0\n",
      "genres     0\n",
      "dtype: int64\n",
      "Jumlah duplikasi data: 0\n"
     ]
    }
   ],
   "source": [
    "print('Jumlah missing values:\\n', movies_df.isna().sum())\n",
    "print('Jumlah duplikasi data:', movies_df.duplicated().sum())"
   ]
  },
  {
   "cell_type": "markdown",
   "id": "Lvv6ZKQdkJR0",
   "metadata": {
    "id": "Lvv6ZKQdkJR0"
   },
   "source": [
    "Kode di atas bertujuan untuk mengecek missing values dan duplikasi data."
   ]
  },
  {
   "cell_type": "markdown",
   "id": "2sUcW_idk36t",
   "metadata": {
    "id": "2sUcW_idk36t"
   },
   "source": [
    "Insight: Tidak ada data duplikasi dan missing values pada dataset `movies_df`."
   ]
  },
  {
   "cell_type": "code",
   "execution_count": 14,
   "id": "f6b8a187",
   "metadata": {
    "colab": {
     "base_uri": "https://localhost:8080/"
    },
    "execution": {
     "iopub.execute_input": "2025-05-23T14:07:42.979086Z",
     "iopub.status.busy": "2025-05-23T14:07:42.978581Z",
     "iopub.status.idle": "2025-05-23T14:07:43.023579Z",
     "shell.execute_reply": "2025-05-23T14:07:43.019033Z",
     "shell.execute_reply.started": "2025-05-23T14:07:42.979063Z"
    },
    "id": "f6b8a187",
    "outputId": "0707842f-5cb4-413c-b87a-e054b0ae2665",
    "trusted": true
   },
   "outputs": [
    {
     "name": "stdout",
     "output_type": "stream",
     "text": [
      "Jumlah missing values:\n",
      " userId       0\n",
      "movieId      0\n",
      "rating       0\n",
      "timestamp    0\n",
      "dtype: int64\n",
      "Jumlah duplikasi data: 0\n"
     ]
    }
   ],
   "source": [
    "print('Jumlah missing values:\\n', ratings_df.isna().sum())\n",
    "print('Jumlah duplikasi data:', ratings_df.duplicated().sum())"
   ]
  },
  {
   "cell_type": "markdown",
   "id": "YNyeCnzUkwqO",
   "metadata": {
    "id": "YNyeCnzUkwqO"
   },
   "source": [
    "Kode di atas bertujuan untuk mengecek missing values dan duplikasi data."
   ]
  },
  {
   "cell_type": "markdown",
   "id": "YhN1dLZrk1l8",
   "metadata": {
    "id": "YhN1dLZrk1l8"
   },
   "source": [
    "Insight: Tidak ada data duplikasi dan missing values pada dataset `ratings_df`."
   ]
  },
  {
   "cell_type": "code",
   "execution_count": 15,
   "id": "0b944be3",
   "metadata": {
    "colab": {
     "base_uri": "https://localhost:8080/",
     "height": 489
    },
    "execution": {
     "iopub.execute_input": "2025-05-23T14:07:43.024713Z",
     "iopub.status.busy": "2025-05-23T14:07:43.024510Z",
     "iopub.status.idle": "2025-05-23T14:07:43.046475Z",
     "shell.execute_reply": "2025-05-23T14:07:43.042135Z",
     "shell.execute_reply.started": "2025-05-23T14:07:43.024692Z"
    },
    "id": "0b944be3",
    "outputId": "dce47e01-3158-42d3-c3dc-9156a1e5d378",
    "trusted": true
   },
   "outputs": [
    {
     "data": {
      "text/plain": [
       "genres\n",
       "(no genres listed)                     5062\n",
       "Action                                  562\n",
       "Action|Adventure                        200\n",
       "Action|Adventure|Animation               30\n",
       "Action|Adventure|Animation|Children       6\n",
       "                                       ... \n",
       "Thriller|War                             13\n",
       "Thriller|Western                          5\n",
       "War                                      89\n",
       "War|Western                               7\n",
       "Western                                 560\n",
       "Name: count, Length: 1639, dtype: int64"
      ]
     },
     "execution_count": 15,
     "metadata": {},
     "output_type": "execute_result"
    }
   ],
   "source": [
    "movies_df['genres'].value_counts().sort_index()"
   ]
  },
  {
   "cell_type": "markdown",
   "id": "81028fcd",
   "metadata": {},
   "source": [
    "Kode di atas bertujuan untuk mengetahui berbagai macam `genres` yang ada pada dataframe `movies_df`"
   ]
  },
  {
   "cell_type": "markdown",
   "id": "70c3e129",
   "metadata": {},
   "source": [
    "Insight: Terdapat 1639 macam genre pada dataset `movies_df`"
   ]
  },
  {
   "cell_type": "markdown",
   "id": "6818629b",
   "metadata": {},
   "source": [
    "## Exploratory Data Analysis (EDA)"
   ]
  },
  {
   "cell_type": "code",
   "execution_count": 16,
   "id": "5e6497aa",
   "metadata": {
    "colab": {
     "base_uri": "https://localhost:8080/",
     "height": 607
    },
    "execution": {
     "iopub.execute_input": "2025-05-23T14:07:43.047320Z",
     "iopub.status.busy": "2025-05-23T14:07:43.047109Z",
     "iopub.status.idle": "2025-05-23T14:07:43.344747Z",
     "shell.execute_reply": "2025-05-23T14:07:43.340067Z",
     "shell.execute_reply.started": "2025-05-23T14:07:43.047300Z"
    },
    "id": "5e6497aa",
    "outputId": "7961db33-3078-426f-a058-58feb81743da",
    "trusted": true
   },
   "outputs": [
    {
     "data": {
      "image/png": "[encoded data removed]",
      "text/plain": [
       "<Figure size 1000x600 with 1 Axes>"
      ]
     },
     "metadata": {},
     "output_type": "display_data"
    }
   ],
   "source": [
    "top_genres = movies_df['genres'].value_counts().head(10)\n",
    "\n",
    "plt.figure(figsize=(10,6))\n",
    "sns.barplot(x=top_genres.values, y=top_genres.index)\n",
    "plt.title(\"10 Genre Film Terbanyak\")\n",
    "plt.xlabel(\"Jumlah Film\")\n",
    "plt.ylabel(\"Genre\")\n",
    "plt.grid(axis='x', linestyle='--', alpha=0.7)\n",
    "plt.tight_layout()\n",
    "plt.show()"
   ]
  },
  {
   "cell_type": "markdown",
   "id": "8b2a9030",
   "metadata": {},
   "source": [
    "Kode di atas bertujuan untuk mengetahui distribusi 10 genre film terbanyak pada dataset."
   ]
  },
  {
   "cell_type": "markdown",
   "id": "a5a7a2b6",
   "metadata": {},
   "source": [
    "Insight: Genre Drama menjadi genre dengan film terbanyak dengan jumlah lebih dari 8000 film."
   ]
  },
  {
   "cell_type": "code",
   "execution_count": 17,
   "id": "93b1c4cf",
   "metadata": {
    "colab": {
     "base_uri": "https://localhost:8080/",
     "height": 564
    },
    "execution": {
     "iopub.execute_input": "2025-05-23T14:07:43.346195Z",
     "iopub.status.busy": "2025-05-23T14:07:43.345967Z",
     "iopub.status.idle": "2025-05-23T14:07:43.526891Z",
     "shell.execute_reply": "2025-05-23T14:07:43.522194Z",
     "shell.execute_reply.started": "2025-05-23T14:07:43.346173Z"
    },
    "id": "93b1c4cf",
    "outputId": "5005c91d-e1a2-4d45-b784-660e02a998fa",
    "trusted": true
   },
   "outputs": [
    {
     "data": {
      "image/png": "[encoded data removed]",
      "text/plain": [
       "<Figure size 800x600 with 1 Axes>"
      ]
     },
     "metadata": {},
     "output_type": "display_data"
    }
   ],
   "source": [
    "rating_counts = ratings_df['rating'].value_counts().sort_index()\n",
    "\n",
    "plt.figure(figsize=(8, 6))\n",
    "sns.barplot(x=rating_counts.index.astype(str), y=rating_counts.values)\n",
    "plt.title('Distribusi Rating Film')\n",
    "plt.xlabel('Rating')\n",
    "plt.ylabel('Jumlah')\n",
    "plt.grid(axis='y', linestyle='--', alpha=0.7)\n",
    "plt.show()"
   ]
  },
  {
   "cell_type": "markdown",
   "id": "787eb56d",
   "metadata": {},
   "source": [
    "Kode di atas berutujuan untuk menganalisa distribusi rating film pada dataset yang ada."
   ]
  },
  {
   "cell_type": "markdown",
   "id": "bcec52b7",
   "metadata": {},
   "source": [
    "Insight: Rating 4.0 menjadi rating terbanyak yang diberikan oleh pengguna dengan lebih dari 50.000 film."
   ]
  },
  {
   "cell_type": "markdown",
   "id": "fb478e49",
   "metadata": {
    "id": "fb478e49"
   },
   "source": [
    "# Data Preparation"
   ]
  },
  {
   "cell_type": "code",
   "execution_count": 18,
   "id": "c0a6db65-5055-4944-9571-ecefeda25877",
   "metadata": {
    "execution": {
     "iopub.execute_input": "2025-05-23T14:07:43.527812Z",
     "iopub.status.busy": "2025-05-23T14:07:43.527609Z",
     "iopub.status.idle": "2025-05-23T14:07:43.545957Z",
     "shell.execute_reply": "2025-05-23T14:07:43.541124Z",
     "shell.execute_reply.started": "2025-05-23T14:07:43.527791Z"
    },
    "trusted": true
   },
   "outputs": [],
   "source": [
    "movies_df = movies_df[movies_df['genres'] != \"(no genres listed)\"]"
   ]
  },
  {
   "cell_type": "markdown",
   "id": "feec3006",
   "metadata": {},
   "source": [
    "Kode di atas bertujuan untuk membersihkan data film dengan genre berjenis (no genres listed). Hal ini menandakan bahwa film dengan (no genres listed) tidak memiliki genres dan dapat menjadi tantangan dalam merekomendasikan film yang sesuai kepada pengguna."
   ]
  },
  {
   "cell_type": "code",
   "execution_count": 19,
   "id": "d67c1505",
   "metadata": {
    "execution": {
     "iopub.execute_input": "2025-05-23T14:07:43.547093Z",
     "iopub.status.busy": "2025-05-23T14:07:43.546866Z",
     "iopub.status.idle": "2025-05-23T14:07:43.605780Z",
     "shell.execute_reply": "2025-05-23T14:07:43.599869Z",
     "shell.execute_reply.started": "2025-05-23T14:07:43.547072Z"
    },
    "id": "d67c1505",
    "trusted": true
   },
   "outputs": [],
   "source": [
    "df = pd.merge(ratings_df, movies_df, on='movieId')\n",
    "df = df.drop(['timestamp'], axis=1)"
   ]
  },
  {
   "cell_type": "markdown",
   "id": "843a6e86",
   "metadata": {},
   "source": [
    "Kode di atas bertujuan untuk menggabungkan dataset `movies_df` dan `ratings_df` berdasar kepada kesamaan `movieId`. Hal ini bertujuan agar dataset bisa lebih relevan saat digunakan sebagai train set dan data set dalam membangun model rekomendasi."
   ]
  },
  {
   "cell_type": "code",
   "execution_count": 20,
   "id": "446ccacd",
   "metadata": {
    "colab": {
     "base_uri": "https://localhost:8080/",
     "height": 206
    },
    "execution": {
     "iopub.execute_input": "2025-05-23T14:07:43.607658Z",
     "iopub.status.busy": "2025-05-23T14:07:43.607419Z",
     "iopub.status.idle": "2025-05-23T14:07:43.624040Z",
     "shell.execute_reply": "2025-05-23T14:07:43.619407Z",
     "shell.execute_reply.started": "2025-05-23T14:07:43.607635Z"
    },
    "id": "446ccacd",
    "outputId": "25a1597d-e799-4dee-c589-6c47c4eaa864",
    "trusted": true
   },
   "outputs": [
    {
     "data": {
      "text/html": [
       "<div>\n",
       "<style scoped>\n",
       "    .dataframe tbody tr th:only-of-type {\n",
       "        vertical-align: middle;\n",
       "    }\n",
       "\n",
       "    .dataframe tbody tr th {\n",
       "        vertical-align: top;\n",
       "    }\n",
       "\n",
       "    .dataframe thead th {\n",
       "        text-align: right;\n",
       "    }\n",
       "</style>\n",
       "<table border=\"1\" class=\"dataframe\">\n",
       "  <thead>\n",
       "    <tr style=\"text-align: right;\">\n",
       "      <th></th>\n",
       "      <th>userId</th>\n",
       "      <th>movieId</th>\n",
       "      <th>rating</th>\n",
       "      <th>title</th>\n",
       "      <th>genres</th>\n",
       "    </tr>\n",
       "  </thead>\n",
       "  <tbody>\n",
       "    <tr>\n",
       "      <th>0</th>\n",
       "      <td>99476</td>\n",
       "      <td>104374</td>\n",
       "      <td>3.5</td>\n",
       "      <td>About Time (2013)</td>\n",
       "      <td>Drama|Fantasy|Romance</td>\n",
       "    </tr>\n",
       "    <tr>\n",
       "      <th>1</th>\n",
       "      <td>107979</td>\n",
       "      <td>2634</td>\n",
       "      <td>4.0</td>\n",
       "      <td>Mummy, The (1959)</td>\n",
       "      <td>Horror</td>\n",
       "    </tr>\n",
       "    <tr>\n",
       "      <th>2</th>\n",
       "      <td>155372</td>\n",
       "      <td>1614</td>\n",
       "      <td>3.0</td>\n",
       "      <td>In &amp; Out (1997)</td>\n",
       "      <td>Comedy</td>\n",
       "    </tr>\n",
       "    <tr>\n",
       "      <th>3</th>\n",
       "      <td>65225</td>\n",
       "      <td>7153</td>\n",
       "      <td>4.0</td>\n",
       "      <td>Lord of the Rings: The Return of the King, The...</td>\n",
       "      <td>Action|Adventure|Drama|Fantasy</td>\n",
       "    </tr>\n",
       "    <tr>\n",
       "      <th>4</th>\n",
       "      <td>79161</td>\n",
       "      <td>500</td>\n",
       "      <td>5.0</td>\n",
       "      <td>Mrs. Doubtfire (1993)</td>\n",
       "      <td>Comedy|Drama</td>\n",
       "    </tr>\n",
       "  </tbody>\n",
       "</table>\n",
       "</div>"
      ],
      "text/plain": [
       "   userId  movieId  rating                                              title  \\\n",
       "0   99476   104374     3.5                                  About Time (2013)   \n",
       "1  107979     2634     4.0                                  Mummy, The (1959)   \n",
       "2  155372     1614     3.0                                    In & Out (1997)   \n",
       "3   65225     7153     4.0  Lord of the Rings: The Return of the King, The...   \n",
       "4   79161      500     5.0                              Mrs. Doubtfire (1993)   \n",
       "\n",
       "                           genres  \n",
       "0           Drama|Fantasy|Romance  \n",
       "1                          Horror  \n",
       "2                          Comedy  \n",
       "3  Action|Adventure|Drama|Fantasy  \n",
       "4                    Comedy|Drama  "
      ]
     },
     "execution_count": 20,
     "metadata": {},
     "output_type": "execute_result"
    }
   ],
   "source": [
    "df.head()"
   ]
  },
  {
   "cell_type": "markdown",
   "id": "f4ff9434",
   "metadata": {},
   "source": [
    "Kode di atas bertujuan untuk melakukan pengecekan apakah dataframe `df` telah memiliki data yang benar dan sesuai."
   ]
  },
  {
   "cell_type": "code",
   "execution_count": 21,
   "id": "57060aa6",
   "metadata": {
    "colab": {
     "base_uri": "https://localhost:8080/"
    },
    "execution": {
     "iopub.execute_input": "2025-05-23T14:07:43.627035Z",
     "iopub.status.busy": "2025-05-23T14:07:43.626804Z",
     "iopub.status.idle": "2025-05-23T14:07:43.660413Z",
     "shell.execute_reply": "2025-05-23T14:07:43.655484Z",
     "shell.execute_reply.started": "2025-05-23T14:07:43.627012Z"
    },
    "id": "57060aa6",
    "outputId": "a196349b-1998-4b65-f83c-4d80ad93d92b",
    "trusted": true
   },
   "outputs": [
    {
     "name": "stdout",
     "output_type": "stream",
     "text": [
      "<class 'pandas.core.frame.DataFrame'>\n",
      "RangeIndex: 199782 entries, 0 to 199781\n",
      "Data columns (total 5 columns):\n",
      " #   Column   Non-Null Count   Dtype  \n",
      "---  ------   --------------   -----  \n",
      " 0   userId   199782 non-null  int64  \n",
      " 1   movieId  199782 non-null  int64  \n",
      " 2   rating   199782 non-null  float64\n",
      " 3   title    199782 non-null  object \n",
      " 4   genres   199782 non-null  object \n",
      "dtypes: float64(1), int64(2), object(2)\n",
      "memory usage: 7.6+ MB\n"
     ]
    }
   ],
   "source": [
    "df.info()"
   ]
  },
  {
   "cell_type": "markdown",
   "id": "8362b0dc",
   "metadata": {},
   "source": [
    "Kode di atas bertujuan untuk melakukan pengecekan tipe data dan jumlah value pada setiap kolom dataframe `df`."
   ]
  },
  {
   "cell_type": "code",
   "execution_count": 22,
   "id": "66375962",
   "metadata": {
    "execution": {
     "iopub.execute_input": "2025-05-23T14:07:43.661431Z",
     "iopub.status.busy": "2025-05-23T14:07:43.661191Z",
     "iopub.status.idle": "2025-05-23T14:08:16.350949Z",
     "shell.execute_reply": "2025-05-23T14:08:16.345701Z",
     "shell.execute_reply.started": "2025-05-23T14:07:43.661407Z"
    },
    "id": "66375962",
    "trusted": true
   },
   "outputs": [],
   "source": [
    "user_item_matrix = df.pivot_table(index='userId', columns='movieId', values='rating')\n",
    "train_data, test_data = train_test_split(df, test_size=0.2, random_state=42)\n",
    "\n",
    "train_matrix = train_data.pivot_table(index='userId', columns='movieId', values='rating').fillna(0)"
   ]
  },
  {
   "cell_type": "markdown",
   "id": "84ef9ffc",
   "metadata": {},
   "source": [
    "Terdapat beberapa tujuan dari kode yang dicantumkan pada proses di atas, yaitu:\n",
    "- Membuat user-item matrix dari DataFrame df, di mana baris adalah userId, kolom adalah movieId, dan nilai adalah rating yang diberikan user terhadap film.\n",
    "- Matrix ini akan digunakan sebagai dasar sistem rekomendasi berbasis kolaboratif.\n",
    "- Membagi dataset df menjadi training set (80%) dan testing set (20%) secara acak namun konsisten karena menggunakan random_state=42.\n",
    "- Membuat user-item matrix khusus dari data training, kemudian mengisi nilai yang kosong (NaN) dengan 0.\n",
    "- Ini dilakukan agar matrix bisa digunakan dalam model seperti Collaborative Filtering berbasis matriks (misal cosine similarity atau matrix factorization)."
   ]
  },
  {
   "cell_type": "code",
   "execution_count": 23,
   "id": "cfcfca64",
   "metadata": {
    "execution": {
     "iopub.execute_input": "2025-05-23T14:08:16.353528Z",
     "iopub.status.busy": "2025-05-23T14:08:16.353267Z",
     "iopub.status.idle": "2025-05-23T14:08:17.537891Z",
     "shell.execute_reply": "2025-05-23T14:08:17.533193Z",
     "shell.execute_reply.started": "2025-05-23T14:08:16.353503Z"
    },
    "id": "cfcfca64",
    "trusted": true
   },
   "outputs": [],
   "source": [
    "movies_df['genres'] = movies_df['genres'].str.split('|')\n",
    "genre_dummies = movies_df['genres'].explode().str.get_dummies().groupby(level=0).sum()\n",
    "\n",
    "movies_with_genres = pd.concat([movies_df[['movieId', 'title']], genre_dummies], axis=1)"
   ]
  },
  {
   "cell_type": "markdown",
   "id": "d629ab39",
   "metadata": {},
   "source": [
    "Berikut adalah beberapa proses yang dilakukan pada kode di atas:\n",
    "- Mengubah kolom genres yang awalnya berupa string (misalnya: \"Action|Comedy\") menjadi list (misalnya: [\"Action\", \"Comedy\"]), dipisahkan berdasarkan tanda |.\n",
    "- explode() memecah list genre menjadi baris terpisah (satu genre per baris).\n",
    "- str.get_dummies() mengubah genre menjadi kolom biner (one-hot encoding).\n",
    "- groupby(level=0).sum() menggabungkan kembali ke level baris asal (movieId), sehingga setiap film diwakili oleh vektor genre (misalnya: Action=1, Comedy=1, lainnya=0).\n",
    "- Menggabungkan kembali kolom movieId dan title dengan vektor genre hasil one-hot encoding untuk membentuk movies_with_genres."
   ]
  },
  {
   "cell_type": "markdown",
   "id": "76780ab1",
   "metadata": {
    "id": "76780ab1"
   },
   "source": [
    "# Modeling"
   ]
  },
  {
   "cell_type": "markdown",
   "id": "sI9t1TEZ3tnv",
   "metadata": {
    "id": "sI9t1TEZ3tnv"
   },
   "source": [
    "## Collaborative Filtering"
   ]
  },
  {
   "cell_type": "code",
   "execution_count": 24,
   "id": "b5ebba84",
   "metadata": {
    "execution": {
     "iopub.execute_input": "2025-05-23T14:08:17.540413Z",
     "iopub.status.busy": "2025-05-23T14:08:17.540115Z",
     "iopub.status.idle": "2025-05-23T14:09:38.890551Z",
     "shell.execute_reply": "2025-05-23T14:09:38.884260Z",
     "shell.execute_reply.started": "2025-05-23T14:08:17.540389Z"
    },
    "id": "b5ebba84",
    "trusted": true
   },
   "outputs": [],
   "source": [
    "user_similarity = cosine_similarity(train_matrix)\n",
    "user_similarity_df = pd.DataFrame(user_similarity, index=train_matrix.index, columns=train_matrix.index)"
   ]
  },
  {
   "cell_type": "markdown",
   "id": "99845091",
   "metadata": {},
   "source": [
    "Kode di atas bertujuan untuk untuk mengukur kesamaan antara user satu dengan lainnya menggunakan Cosine Similarity. Output-nya berupa matriks kemiripan antar pengguna."
   ]
  },
  {
   "cell_type": "code",
   "execution_count": 25,
   "id": "iPP--rkD1SWX",
   "metadata": {
    "execution": {
     "iopub.execute_input": "2025-05-23T14:09:38.892965Z",
     "iopub.status.busy": "2025-05-23T14:09:38.892711Z",
     "iopub.status.idle": "2025-05-23T14:09:38.904762Z",
     "shell.execute_reply": "2025-05-23T14:09:38.901035Z",
     "shell.execute_reply.started": "2025-05-23T14:09:38.892940Z"
    },
    "id": "iPP--rkD1SWX",
    "trusted": true
   },
   "outputs": [],
   "source": [
    "def recommendation_by_user(user_id, top_n=10):\n",
    "    if user_id not in train_matrix.index:\n",
    "        return pd.DataFrame(columns=['movieId', 'title', 'genres'])\n",
    "\n",
    "    # Ambil skor kemiripan user\n",
    "    sim_users = user_similarity_df[user_id].drop(user_id).sort_values(ascending=False)\n",
    "\n",
    "    # Weighted sum of ratings\n",
    "    weighted_sum = np.dot(sim_users.values, train_matrix.loc[sim_users.index].values)\n",
    "    sim_sum = np.sum(np.abs(sim_users.values))\n",
    "\n",
    "    if sim_sum == 0:\n",
    "        predicted_ratings = weighted_sum\n",
    "    else:\n",
    "        predicted_ratings = weighted_sum / sim_sum\n",
    "\n",
    "    # Hindari film yang sudah ditonton user\n",
    "    user_seen = train_matrix.loc[user_id] > 0\n",
    "    predicted_ratings[user_seen.values] = -np.inf\n",
    "\n",
    "    # Ambil movieId rekomendasi teratas\n",
    "    recommended_indices = np.argsort(predicted_ratings)[-top_n:][::-1]\n",
    "    recommended_movie_ids = train_matrix.columns[recommended_indices]\n",
    "\n",
    "    # Ambil informasi judul dan genre dari movies_df\n",
    "    recommendations = movies_df[movies_df['movieId'].isin(recommended_movie_ids)].copy()\n",
    "\n",
    "    # Jaga urutan sesuai prediksi\n",
    "    recommendations['rank'] = recommendations['movieId'].apply(lambda x: recommended_movie_ids.get_loc(x))\n",
    "    recommendations = recommendations.sort_values('rank').drop(columns='rank')\n",
    "\n",
    "    return recommendations[['movieId', 'title', 'genres']]"
   ]
  },
  {
   "cell_type": "markdown",
   "id": "a8b0a386",
   "metadata": {},
   "source": [
    "Beberapa proses yang dilakukan dalam fungsi `recommendation_by_user()` di atas adalah sebagai berikut:\n",
    "- Cek apakah user ada dalam data training untuk menghindari error jika user tidak ditemukan\n",
    "- Mengambil daftar user lain yang paling mirip (kecuali dirinya sendiri), diurutkan dari yang paling mirip.\n",
    "- Menggabungkan rating dari user-user lain, diberi bobot berdasarkan kemiripannya dengan user target.\n",
    "- Jika total similarity sim_sum = 0, artinya tidak ada kemiripan, maka langsung gunakan weighted_sum saja.\n",
    "- Menghindari film yang sudah ditonton untuk mencegah sistem merekomendasikan film yang sudah ditonton user.\n",
    "- Ambil indeks dengan nilai prediksi rating tertinggi (Top-N) kemudian konversi indeks ke movieId.\n",
    "- Menggabungkan rekomendasi dengan metadata film (judul dan genre).\n",
    "- Menjaga urutan rekomendasi agar sesuai dengan prediksi rating tertinggi."
   ]
  },
  {
   "cell_type": "markdown",
   "id": "BqVx62dK3y2L",
   "metadata": {
    "id": "BqVx62dK3y2L"
   },
   "source": [
    "## Content-Based Filtering"
   ]
  },
  {
   "cell_type": "code",
   "execution_count": 26,
   "id": "9362047e",
   "metadata": {
    "execution": {
     "iopub.execute_input": "2025-05-23T14:09:38.907004Z",
     "iopub.status.busy": "2025-05-23T14:09:38.906778Z",
     "iopub.status.idle": "2025-05-23T14:09:58.509535Z",
     "shell.execute_reply": "2025-05-23T14:09:58.504595Z",
     "shell.execute_reply.started": "2025-05-23T14:09:38.906983Z"
    },
    "id": "9362047e",
    "trusted": true
   },
   "outputs": [],
   "source": [
    "genre_similarity_matrix = cosine_similarity(genre_dummies)\n",
    "genre_sim_df = pd.DataFrame(genre_similarity_matrix,\n",
    "                            index=movies_df['movieId'],\n",
    "                            columns=movies_df['movieId'])"
   ]
  },
  {
   "cell_type": "markdown",
   "id": "4f16f1fa",
   "metadata": {},
   "source": [
    "Kode di atas bertujuan untuk menghitung seberapa mirip dua film berdasarkan genre menggunakan cosine similarity. Matriks genre_sim_df memiliki indeks dan kolom berupa movieId, dan nilainya adalah skor kemiripan antar film."
   ]
  },
  {
   "cell_type": "code",
   "execution_count": 27,
   "id": "QI3kx8cfsLHo",
   "metadata": {
    "colab": {
     "base_uri": "https://localhost:8080/",
     "height": 331
    },
    "execution": {
     "iopub.execute_input": "2025-05-23T14:09:58.511758Z",
     "iopub.status.busy": "2025-05-23T14:09:58.511505Z",
     "iopub.status.idle": "2025-05-23T14:09:58.526777Z",
     "shell.execute_reply": "2025-05-23T14:09:58.520675Z",
     "shell.execute_reply.started": "2025-05-23T14:09:58.511729Z"
    },
    "id": "QI3kx8cfsLHo",
    "outputId": "2a5e0c24-c0f4-4868-ea73-d0241a0c3eb3",
    "trusted": true
   },
   "outputs": [],
   "source": [
    "def recommendation_by_genre(user_id, ratings_df, top_n=10):\n",
    "    # Ambil movieId yang pernah diberi rating oleh user\n",
    "    user_rated_movies = ratings_df[ratings_df['userId'] == user_id]['movieId'].tolist()\n",
    "\n",
    "    if not user_rated_movies:\n",
    "        return pd.DataFrame(columns=['movieId', 'title', 'genres'])\n",
    "\n",
    "    # Pastikan kolom 'genres' tidak kosong dan tipe string\n",
    "    movie_genres = movies_df[movies_df['movieId'].isin(user_rated_movies)].copy()\n",
    "    movie_genres['genres'] = movie_genres['genres'].fillna('').astype(str)\n",
    "    \n",
    "    # Ambil genre dari film yang telah dirating user\n",
    "    user_genres = movie_genres['genres'].str.split('|')\n",
    "    all_genres = [genre for sublist in user_genres for genre in sublist]\n",
    "    favorite_genres = pd.Series(all_genres).value_counts().index.tolist()\n",
    "\n",
    "    # Ambil film yang belum dirating user\n",
    "    unrated_movies = movies_df[~movies_df['movieId'].isin(user_rated_movies)].copy()\n",
    "    unrated_movies['genres'] = unrated_movies['genres'].fillna('').astype(str)\n",
    "\n",
    "    # Skor kemiripan berdasarkan jumlah genre yang cocok\n",
    "    def genre_score(genres):\n",
    "        genres_set = set(genres.split('|')) if isinstance(genres, str) else set()\n",
    "        return len(genres_set & set(favorite_genres))\n",
    "\n",
    "    unrated_movies['genre_score'] = unrated_movies['genres'].apply(genre_score)\n",
    "    recommendations = unrated_movies.sort_values(by='genre_score', ascending=False).head(top_n)\n",
    "\n",
    "    return recommendations[['movieId', 'title', 'genres']]"
   ]
  },
  {
   "cell_type": "markdown",
   "id": "8e08f7e7",
   "metadata": {},
   "source": [
    "Beberapa proses yang dilakukan dalam fungsi `recommendation_by_genre()` di atas adalah sebagai berikut:\n",
    "- Mengidentifikasi film apa saja yang pernah ditonton atau dirating oleh user.\n",
    "- Mengambil genre dari film-film yang ditonton user.\n",
    "- Kemudian dikompilasi semua genre menjadi list, dan diurutkan berdasarkan frekuensi kemunculan guna membentuk genre favorit user berdasarkan film yang telah dia tonton.\n",
    "- Menyaring hanya film yang belum pernah ditonton oleh user.\n",
    "- Hitung skor kemiripan genre dengan setiap film yang belum ditonton, dihitung jumlah genre yang cocok dengan genre favorit user. Semakin banyak genre yang cocok → skor semakin tinggi.\n",
    "- Film dengan genre paling mirip dengan preferensi user akan direkomendasikan."
   ]
  },
  {
   "cell_type": "markdown",
   "id": "1f5c94d2",
   "metadata": {
    "id": "1f5c94d2"
   },
   "source": [
    "# Evaluation"
   ]
  },
  {
   "cell_type": "markdown",
   "id": "B1Nes7XW2zf3",
   "metadata": {
    "id": "B1Nes7XW2zf3"
   },
   "source": [
    "## Collaborative Filtering Evaluation"
   ]
  },
  {
   "cell_type": "code",
   "execution_count": 86,
   "id": "s_uZboFB2PMM",
   "metadata": {
    "execution": {
     "iopub.execute_input": "2025-05-23T14:30:13.692089Z",
     "iopub.status.busy": "2025-05-23T14:30:13.691803Z",
     "iopub.status.idle": "2025-05-23T14:30:13.705507Z",
     "shell.execute_reply": "2025-05-23T14:30:13.700810Z",
     "shell.execute_reply.started": "2025-05-23T14:30:13.692065Z"
    },
    "id": "s_uZboFB2PMM",
    "trusted": true
   },
   "outputs": [],
   "source": [
    "def evaluate_user_recommendation(user_id, train_df, test_df, k=10):\n",
    "    # Ambil movieId aktual dari test set yang diberi rating ≥ 3\n",
    "    actual_items = test_df[(test_df['userId'] == user_id) & (test_df['rating'] >= 3)]['movieId'].tolist()\n",
    "\n",
    "    if not actual_items:\n",
    "        print(f\"[SKIP] User {user_id} tidak memiliki data rating ≥ 3 di test set.\")\n",
    "        return None\n",
    "\n",
    "    # Ambil rekomendasi user\n",
    "    recommended_df = recommendation_by_user(user_id, top_n=k)\n",
    "    recommended_items = recommended_df['movieId'].tolist()\n",
    "\n",
    "    if not recommended_items:\n",
    "        print(f\"[SKIP] Tidak ada rekomendasi untuk user {user_id}.\")\n",
    "        return None\n",
    "\n",
    "    # Precision@K = |relevant ∩ recommended| / k\n",
    "    precision = len(set(actual_items) & set(recommended_items)) / k\n",
    "\n",
    "    print(f\"User {user_id} | Precision@{k}: {precision:.4f}\")\n",
    "    print(f\"Actual Items:      {actual_items}\")\n",
    "    print(f\"Recommended Items: {recommended_items}\")\n",
    "    return precision\n",
    "\n",
    "def evaluate_users(user_ids, train_df, test_df, k=10):\n",
    "    precision_scores = []\n",
    "\n",
    "    for user_id in user_ids:\n",
    "        score = evaluate_user_recommendation(user_id, train_df, test_df, k)\n",
    "        if score is not None:\n",
    "            precision_scores.append(score)\n",
    "\n",
    "    if precision_scores:\n",
    "        avg_precision = np.mean(precision_scores)\n",
    "        print(f\"\\nAverage Precision@{k} for {len(precision_scores)} users: {avg_precision:.4f}\")\n",
    "        return avg_precision\n",
    "    else:\n",
    "        print(\"Tidak ada user yang valid untuk evaluasi.\")\n",
    "        return 0"
   ]
  },
  {
   "cell_type": "markdown",
   "id": "a560e091",
   "metadata": {},
   "source": [
    "Beberapa tahapan proses yang dilakukan pada fungsi `evaluate_user_recommendation()` di atas adalah sebagai berikut:\n",
    "- Mengambil daftar film yang user beri rating ≥ 3 (dianggap disukai user) dari test set. Ini adalah ground truth (jawaban sebenarnya). Jika user tidak memiliki data valid, dilewati.\n",
    "- Mengambil daftar top-k film rekomendasi berdasarkan Collaborative Filtering.\n",
    "- Menghitung Precision@K dengan Precision@K = jumlah film relevan yang direkomendasikan dibagi total rekomendasi (k). Hanya mempertimbangkan rekomendasi yang benar-benar disukai user di test set.\n",
    "- Terakhir, menampilkan hasil evaluasi per user."
   ]
  },
  {
   "cell_type": "markdown",
   "id": "042b9a9d",
   "metadata": {},
   "source": [
    "Sedangkan pada fungsi `evaluate_users()` bertujuan untuk mengevaluasi beberapa user sekaligus. Terdapat beberapa tahapan yang dilakukan, seperti:\n",
    "- Fungsi evaluate_user_recommendation() dipanggil untuk tiap user.\n",
    "- Hanya memasukkan user yang memiliki data valid.\n",
    "- Menghitung dan dan menampilkan Average Precision. "
   ]
  },
  {
   "cell_type": "code",
   "execution_count": 131,
   "id": "bmcQ45qu2kdI",
   "metadata": {
    "execution": {
     "iopub.execute_input": "2025-05-23T14:42:07.467626Z",
     "iopub.status.busy": "2025-05-23T14:42:07.467340Z",
     "iopub.status.idle": "2025-05-23T14:42:10.512967Z",
     "shell.execute_reply": "2025-05-23T14:42:10.506460Z",
     "shell.execute_reply.started": "2025-05-23T14:42:07.467601Z"
    },
    "id": "bmcQ45qu2kdI",
    "trusted": true
   },
   "outputs": [
    {
     "name": "stdout",
     "output_type": "stream",
     "text": [
      "[SKIP] User 61835 tidak memiliki data rating ≥ 3 di test set.\n",
      "[SKIP] Tidak ada rekomendasi untuk user 735.\n",
      "[SKIP] User 44519 tidak memiliki data rating ≥ 3 di test set.\n",
      "[SKIP] Tidak ada rekomendasi untuk user 132429.\n",
      "User 85491 | Precision@10: 0.1000\n",
      "Actual Items:      [356]\n",
      "Recommended Items: [524, 2263, 2010, 2941, 57669, 356, 4084, 1023, 3307, 2425]\n",
      "\n",
      "Average Precision@10 for 1 users: 0.1000\n"
     ]
    },
    {
     "data": {
      "text/plain": [
       "np.float64(0.1)"
      ]
     },
     "execution_count": 131,
     "metadata": {},
     "output_type": "execute_result"
    }
   ],
   "source": [
    "# Daftar user ID untuk evaluasi\n",
    "sample_users = test_data['userId'].unique()\n",
    "user_test = np.random.choice(sample_users, size=5, replace=False)\n",
    "\n",
    "# Evaluasi\n",
    "evaluate_users(user_test, train_data, test_data)"
   ]
  },
  {
   "cell_type": "markdown",
   "id": "4ce7378b",
   "metadata": {},
   "source": [
    "Kode di atas bertujuan untuk mendapatkan user secara acak pada test dataset, kemudian beberapa user tersebut dievaluasi dengan menjalankan fungsi `evaluate_users` dengan beberapa parameternya yaitu:\n",
    "- Sample user yang didapatkan setelah melakukan pengambilan random pada dataset\n",
    "- Data latih\n",
    "- Data uji"
   ]
  },
  {
   "cell_type": "markdown",
   "id": "9e39FYPg3E7S",
   "metadata": {
    "id": "9e39FYPg3E7S"
   },
   "source": [
    "## Content-based Filtering Evaluation"
   ]
  },
  {
   "cell_type": "code",
   "execution_count": 30,
   "id": "a2b48151",
   "metadata": {
    "colab": {
     "base_uri": "https://localhost:8080/"
    },
    "execution": {
     "iopub.execute_input": "2025-05-23T14:10:09.456798Z",
     "iopub.status.busy": "2025-05-23T14:10:09.456512Z",
     "iopub.status.idle": "2025-05-23T14:10:09.473700Z",
     "shell.execute_reply": "2025-05-23T14:10:09.468815Z",
     "shell.execute_reply.started": "2025-05-23T14:10:09.456770Z"
    },
    "id": "a2b48151",
    "outputId": "0dcc0ef9-b349-4e14-88cb-bd12bf087138",
    "trusted": true
   },
   "outputs": [],
   "source": [
    "def evaluate_genre_recommendation(user_id, train_df, test_df, k=10):\n",
    "    # Ambil movieId dari test set yang disukai user (rating ≥ 3)\n",
    "    actual_items = test_df[(test_df['userId'] == user_id) & (test_df['rating'] >= 3)]['movieId'].tolist()\n",
    "\n",
    "    if not actual_items:\n",
    "        print(f\"[SKIP] User {user_id} tidak memiliki data rating ≥ 3 di test set.\")\n",
    "        return None\n",
    "\n",
    "    # Ambil rekomendasi dari sistem genre-based\n",
    "    recommended_df = recommendation_by_genre(user_id, train_df, top_n=k)\n",
    "    recommended_items = recommended_df['movieId'].tolist()\n",
    "\n",
    "    if not recommended_items:\n",
    "        print(f\"[SKIP] Tidak ada rekomendasi untuk user {user_id}.\")\n",
    "        return None\n",
    "\n",
    "    # Precision@K\n",
    "    precision = len(set(actual_items) & set(recommended_items)) / k\n",
    "\n",
    "    print(f\"User {user_id} | Genre-Based Precision@{k}: {precision:.4f}\")\n",
    "    print(\"Actual:\", actual_items)\n",
    "    print(\"Recommended:\", recommended_items)\n",
    "    return precision\n",
    "\n",
    "def evaluate_multiple_genre_users(user_ids, train_df, test_df, k=10):\n",
    "    precision_scores = []\n",
    "\n",
    "    for user_id in user_ids:\n",
    "        score = evaluate_genre_recommendation(user_id, train_df, test_df, k)\n",
    "        if score is not None:\n",
    "            precision_scores.append(score)\n",
    "\n",
    "    if precision_scores:\n",
    "        avg_precision = np.mean(precision_scores)\n",
    "        print(f\"\\nAverage Genre-Based Precision@{k} for {len(precision_scores)} users: {avg_precision:.4f}\")\n",
    "        return avg_precision\n",
    "    else:\n",
    "        print(\"Tidak ada user yang valid untuk evaluasi.\")\n",
    "        return 0"
   ]
  },
  {
   "cell_type": "markdown",
   "id": "b429d7a4",
   "metadata": {},
   "source": [
    "Fungsi `evaluate_genre_recommendation()` di atas bertujuan untuk menghitung Precision@K untuk satu user berdasarkan hasil rekomendasi sistem berbasis genre. Beberapa tahapan yang dilakukan antara lain:\n",
    "- Hanya mengambil film dengan rating ≥ 3 yang dianggap disukai user sebagai ground truth.\n",
    "- Memanggil fungsi recommendation_by_genre() untuk menghasilkan rekomendasi berdasarkan genre favorit user dengan mengembalikan top-k rekomendasi.\n",
    "- Mengukur seberapa banyak film yang direkomendasikan ternyata memang disukai user di test set menggunakan Precision@K. \n",
    "- Menampilkan hasil evaluasi dalam format yang terstruktur dan mudah dipahami.\n"
   ]
  },
  {
   "cell_type": "markdown",
   "id": "8219baf1",
   "metadata": {},
   "source": [
    "Fungsi `evaluate_multiple_genre_users()` digunakan untuk menghitung rata-rata Precision@K dari banyak user sekaligus. Langkah-langkah yang dilakukan adalah:\n",
    "- Memanggil fungsi `evaluate_genre_recommendation()` untuk masing-masing user.\n",
    "- Menyimpan score yang valid.\n",
    "- Menghitung rata-rata Precision dan menampilkannya dengan format yang mudah dipahami. "
   ]
  },
  {
   "cell_type": "code",
   "execution_count": 132,
   "id": "TK8jcDsSePpd",
   "metadata": {
    "colab": {
     "base_uri": "https://localhost:8080/"
    },
    "execution": {
     "iopub.execute_input": "2025-05-23T14:42:29.259937Z",
     "iopub.status.busy": "2025-05-23T14:42:29.259588Z",
     "iopub.status.idle": "2025-05-23T14:42:29.403952Z",
     "shell.execute_reply": "2025-05-23T14:42:29.399912Z",
     "shell.execute_reply.started": "2025-05-23T14:42:29.259908Z"
    },
    "id": "TK8jcDsSePpd",
    "outputId": "f5af59a5-11f6-484a-a1af-9c17fbed320b",
    "trusted": true
   },
   "outputs": [
    {
     "name": "stdout",
     "output_type": "stream",
     "text": [
      "[SKIP] User 61835 tidak memiliki data rating ≥ 3 di test set.\n",
      "[SKIP] Tidak ada rekomendasi untuk user 735.\n",
      "[SKIP] User 44519 tidak memiliki data rating ≥ 3 di test set.\n",
      "[SKIP] Tidak ada rekomendasi untuk user 132429.\n",
      "User 85491 | Genre-Based Precision@10: 0.0000\n",
      "Actual: [356]\n",
      "Recommended: [189049, 154126, 154124, 117736, 154100, 8910, 189063, 189065, 117748, 117752]\n",
      "\n",
      "Average Genre-Based Precision@10 for 1 users: 0.0000\n"
     ]
    },
    {
     "data": {
      "text/plain": [
       "np.float64(0.0)"
      ]
     },
     "execution_count": 132,
     "metadata": {},
     "output_type": "execute_result"
    }
   ],
   "source": [
    "# Evaluasi genre-based recommendation\n",
    "evaluate_multiple_genre_users(user_test, train_data, test_data, k=10)"
   ]
  },
  {
   "cell_type": "markdown",
   "id": "663d996a",
   "metadata": {},
   "source": [
    "Kode di atas bertujuan untuk memanggil fungsi `evaluate_multiple_genre_users()` guna mengevaluasi beberapa user sekaligus dengan parameter:\n",
    "- Sample user yang didapatkan setelah melakukan pengambilan random pada dataset\n",
    "- Data latih\n",
    "- Data uji"
   ]
  },
  {
   "cell_type": "markdown",
   "id": "a74524bd-3092-4abc-9f6d-e59f152f9cc2",
   "metadata": {},
   "source": [
    "# Visualization"
   ]
  },
  {
   "cell_type": "markdown",
   "id": "e6029de0-619c-4845-823b-2224edc7664b",
   "metadata": {},
   "source": [
    "## User-Based Collaborative Filtering"
   ]
  },
  {
   "cell_type": "code",
   "execution_count": 133,
   "id": "62de7f5e-cad6-4e1f-a399-110285863c1a",
   "metadata": {
    "execution": {
     "iopub.execute_input": "2025-05-23T14:42:40.703082Z",
     "iopub.status.busy": "2025-05-23T14:42:40.702751Z",
     "iopub.status.idle": "2025-05-23T14:42:43.950202Z",
     "shell.execute_reply": "2025-05-23T14:42:43.945042Z",
     "shell.execute_reply.started": "2025-05-23T14:42:40.703056Z"
    },
    "trusted": true
   },
   "outputs": [
    {
     "data": {
      "image/png": "[encoded data removed]",
      "text/plain": [
       "<Figure size 1000x600 with 1 Axes>"
      ]
     },
     "metadata": {},
     "output_type": "display_data"
    }
   ],
   "source": [
    "def visualize_user_recommendations(user_id, top_n=10):\n",
    "    # Ambil skor kemiripan user (untuk pembobotan)\n",
    "    sim_users = user_similarity_df[user_id].drop(user_id).sort_values(ascending=False)\n",
    "    weighted_sum = np.dot(sim_users.values, train_matrix.loc[sim_users.index].values)\n",
    "    sim_sum = np.sum(np.abs(sim_users.values))\n",
    "    \n",
    "    if sim_sum == 0:\n",
    "        predicted_ratings = weighted_sum\n",
    "    else:\n",
    "        predicted_ratings = weighted_sum / sim_sum\n",
    "\n",
    "    # Hindari film yang sudah ditonton\n",
    "    user_seen = train_matrix.loc[user_id] > 0\n",
    "    predicted_ratings[user_seen.values] = -np.inf\n",
    "\n",
    "    # Ambil top-N hasil rekomendasi\n",
    "    recommended_indices = np.argsort(predicted_ratings)[-top_n:][::-1]\n",
    "    recommended_scores = predicted_ratings[recommended_indices]\n",
    "    recommended_movie_ids = train_matrix.columns[recommended_indices]\n",
    "    recommended_titles = movies_df[movies_df['movieId'].isin(recommended_movie_ids)][['movieId', 'title']]\n",
    "\n",
    "    # Gabungkan untuk visualisasi\n",
    "    recommendation_df = pd.DataFrame({\n",
    "        'movieId': recommended_movie_ids,\n",
    "        'predicted_rating': recommended_scores\n",
    "    }).merge(recommended_titles, on='movieId', how='left')\n",
    "\n",
    "    # Plotting\n",
    "    plt.figure(figsize=(10, 6))\n",
    "    plt.barh(recommendation_df['title'], recommendation_df['predicted_rating'], color='skyblue')\n",
    "    plt.gca().invert_yaxis()\n",
    "    plt.xlabel('Predicted Rating')\n",
    "    plt.title(f'Top-{top_n} Recommendations for User {user_id}')\n",
    "    plt.tight_layout()\n",
    "    plt.show()\n",
    "\n",
    "visualize_user_recommendations(user_test[4], top_n=10)"
   ]
  },
  {
   "cell_type": "markdown",
   "id": "14534000-9a86-48bd-bb96-beffdbe8533d",
   "metadata": {},
   "source": [
    "Kode di atas bertujuan untuk membuat dan menjalankan fungsi `visualize_user_recommendations()`. Pertama, fungsi menghitung skor prediksi rating dengan menjumlahkan skor kemiripan pengguna lain dikalikan dengan rating mereka terhadap setiap film, lalu dibagi total kemiripan untuk normalisasi. Film yang sudah ditonton pengguna dihindari dengan mengganti skornya menjadi negatif tak hingga. Setelah itu, fungsi mengambil 10 film dengan skor prediksi tertinggi dan menampilkan judul serta nilai prediksi dalam bentuk grafik batang horizontal, memudahkan analisis apakah urutan rekomendasi sesuai dengan skor prediksi yang dihasilkan. oleh model mulai. Hal ini juga dapat mempermudah untuk menilai apakah urutan rekomendasi sudah sesuai dengan skor tertinggi dari kemiripan pengguna."
   ]
  },
  {
   "cell_type": "markdown",
   "id": "1f6084c4-a16f-4007-b191-2d140fdbd086",
   "metadata": {},
   "source": [
    "## Content-Based Filtering"
   ]
  },
  {
   "cell_type": "code",
   "execution_count": 135,
   "id": "915c51ed-c3b7-4f7f-8daa-d3de412e4ad0",
   "metadata": {
    "execution": {
     "iopub.execute_input": "2025-05-23T14:43:03.168371Z",
     "iopub.status.busy": "2025-05-23T14:43:03.167841Z",
     "iopub.status.idle": "2025-05-23T14:43:03.669124Z",
     "shell.execute_reply": "2025-05-23T14:43:03.664138Z",
     "shell.execute_reply.started": "2025-05-23T14:43:03.168317Z"
    },
    "trusted": true
   },
   "outputs": [
    {
     "name": "stderr",
     "output_type": "stream",
     "text": [
      "/tmp/ipykernel_10/1479541340.py:26: FutureWarning: \n",
      "\n",
      "Passing `palette` without assigning `hue` is deprecated and will be removed in v0.14.0. Assign the `y` variable to `hue` and set `legend=False` for the same effect.\n",
      "\n",
      "  sns.barplot(\n"
     ]
    },
    {
     "data": {
      "image/png": "[encoded data removed]",
      "text/plain": [
       "<Figure size 1000x600 with 1 Axes>"
      ]
     },
     "metadata": {},
     "output_type": "display_data"
    }
   ],
   "source": [
    "def visualize_genre_recommendations(user_id, ratings_df, top_n=10):\n",
    "    # Dapatkan rekomendasi genre-based\n",
    "    recommendations = recommendation_by_genre(user_id, ratings_df, top_n=top_n)\n",
    "\n",
    "    if recommendations.empty:\n",
    "        print(f\"Tidak ada rekomendasi untuk user {user_id}.\")\n",
    "        return\n",
    "\n",
    "    # Hitung skor genre untuk tiap film (untuk visualisasi urutan relevansi)\n",
    "    user_rated_movies = ratings_df[ratings_df['userId'] == user_id]['movieId'].tolist()\n",
    "    movie_genres = movies_df[movies_df['movieId'].isin(user_rated_movies)].copy()\n",
    "    movie_genres['genres'] = movie_genres['genres'].fillna('').astype(str)\n",
    "\n",
    "    user_genres = movie_genres['genres'].str.split('|')\n",
    "    all_genres = [genre for sublist in user_genres for genre in sublist]\n",
    "    favorite_genres = pd.Series(all_genres).value_counts().index.tolist()\n",
    "\n",
    "    def genre_score(genres):\n",
    "        genres_set = set(genres.split('|')) if isinstance(genres, str) else set()\n",
    "        return len(genres_set & set(favorite_genres))\n",
    "\n",
    "    recommendations['genre_score'] = recommendations['genres'].apply(genre_score)\n",
    "\n",
    "    # Plot visualisasi\n",
    "    plt.figure(figsize=(10, 6))\n",
    "    sns.barplot(\n",
    "        x='genre_score', \n",
    "        y='title', \n",
    "        data=recommendations.sort_values(by='genre_score', ascending=True),\n",
    "        palette='viridis'\n",
    "    )\n",
    "    plt.xlabel(\"Genre Match Score\")\n",
    "    plt.ylabel(\"Movie Title\")\n",
    "    plt.title(f\"Top-{top_n} Genre-Based Recommendations for User {user_id}\")\n",
    "    plt.tight_layout()\n",
    "    plt.show()\n",
    "\n",
    "visualize_genre_recommendations(user_test[4], test_data, top_n=10)"
   ]
  },
  {
   "cell_type": "markdown",
   "id": "131aa3b1-7eb0-4c57-b706-c9455d767785",
   "metadata": {},
   "source": [
    "Kode di atas bertujuan untuk membuat dan menjalankan fungsi `visualize_genre_recommendations()` yang digunakan untuk memvisualisasikan hasil genre-based recommendation bagi seorang pengguna berdasarkan preferensi genre film yang telah mereka beri rating sebelumnya. Pertama, fungsi memanggil recommendation_by_genre untuk menghasilkan daftar rekomendasi film. Kemudian, genre dari film-film yang sudah diberi rating oleh pengguna diolah untuk menentukan genre yang paling sering muncul — diasumsikan sebagai genre favorit pengguna. Selanjutnya, setiap film rekomendasi diberi skor berdasarkan jumlah kecocokan antara genre film tersebut dan genre favorit pengguna. Visualisasi berupa bar chart horizontal menggambarkan genre match score dari setiap film rekomendasi, memperlihatkan urutan film dari yang paling tidak hingga paling sesuai dengan preferensi genre pengguna, sehingga memvalidasi bahwa sistem memberikan rekomendasi berdasarkan kemiripan genre."
   ]
  },
  {
   "cell_type": "markdown",
   "id": "121ef7ad-9e98-48ff-aac1-490d9564bc92",
   "metadata": {},
   "source": [
    "# Inference"
   ]
  },
  {
   "cell_type": "code",
   "execution_count": 136,
   "id": "5e0200ce-3ec3-4328-be0b-9c0b47bbb242",
   "metadata": {
    "execution": {
     "iopub.execute_input": "2025-05-23T14:43:13.382133Z",
     "iopub.status.busy": "2025-05-23T14:43:13.381844Z",
     "iopub.status.idle": "2025-05-23T14:43:16.434531Z",
     "shell.execute_reply": "2025-05-23T14:43:16.426404Z",
     "shell.execute_reply.started": "2025-05-23T14:43:13.382109Z"
    },
    "trusted": true
   },
   "outputs": [
    {
     "data": {
      "text/html": [
       "<div>\n",
       "<style scoped>\n",
       "    .dataframe tbody tr th:only-of-type {\n",
       "        vertical-align: middle;\n",
       "    }\n",
       "\n",
       "    .dataframe tbody tr th {\n",
       "        vertical-align: top;\n",
       "    }\n",
       "\n",
       "    .dataframe thead th {\n",
       "        text-align: right;\n",
       "    }\n",
       "</style>\n",
       "<table border=\"1\" class=\"dataframe\">\n",
       "  <thead>\n",
       "    <tr style=\"text-align: right;\">\n",
       "      <th></th>\n",
       "      <th>movieId</th>\n",
       "      <th>title</th>\n",
       "      <th>genres</th>\n",
       "    </tr>\n",
       "  </thead>\n",
       "  <tbody>\n",
       "    <tr>\n",
       "      <th>519</th>\n",
       "      <td>524</td>\n",
       "      <td>Rudy (1993)</td>\n",
       "      <td>[Drama]</td>\n",
       "    </tr>\n",
       "    <tr>\n",
       "      <th>2172</th>\n",
       "      <td>2263</td>\n",
       "      <td>Seventh Sign, The (1988)</td>\n",
       "      <td>[Drama, Fantasy, Thriller]</td>\n",
       "    </tr>\n",
       "    <tr>\n",
       "      <th>1921</th>\n",
       "      <td>2010</td>\n",
       "      <td>Metropolis (1927)</td>\n",
       "      <td>[Drama, Sci-Fi]</td>\n",
       "    </tr>\n",
       "    <tr>\n",
       "      <th>2849</th>\n",
       "      <td>2941</td>\n",
       "      <td>South Pacific (1958)</td>\n",
       "      <td>[Musical, Romance, War]</td>\n",
       "    </tr>\n",
       "    <tr>\n",
       "      <th>12111</th>\n",
       "      <td>57669</td>\n",
       "      <td>In Bruges (2008)</td>\n",
       "      <td>[Comedy, Crime, Drama, Thriller]</td>\n",
       "    </tr>\n",
       "    <tr>\n",
       "      <th>351</th>\n",
       "      <td>356</td>\n",
       "      <td>Forrest Gump (1994)</td>\n",
       "      <td>[Comedy, Drama, Romance, War]</td>\n",
       "    </tr>\n",
       "    <tr>\n",
       "      <th>3980</th>\n",
       "      <td>4084</td>\n",
       "      <td>Beverly Hills Cop II (1987)</td>\n",
       "      <td>[Action, Comedy, Crime, Thriller]</td>\n",
       "    </tr>\n",
       "    <tr>\n",
       "      <th>1000</th>\n",
       "      <td>1023</td>\n",
       "      <td>Winnie the Pooh and the Blustery Day (1968)</td>\n",
       "      <td>[Animation, Children, Musical]</td>\n",
       "    </tr>\n",
       "    <tr>\n",
       "      <th>3214</th>\n",
       "      <td>3307</td>\n",
       "      <td>City Lights (1931)</td>\n",
       "      <td>[Comedy, Drama, Romance]</td>\n",
       "    </tr>\n",
       "    <tr>\n",
       "      <th>2334</th>\n",
       "      <td>2425</td>\n",
       "      <td>General, The (1998)</td>\n",
       "      <td>[Crime]</td>\n",
       "    </tr>\n",
       "  </tbody>\n",
       "</table>\n",
       "</div>"
      ],
      "text/plain": [
       "       movieId                                        title  \\\n",
       "519        524                                  Rudy (1993)   \n",
       "2172      2263                     Seventh Sign, The (1988)   \n",
       "1921      2010                            Metropolis (1927)   \n",
       "2849      2941                         South Pacific (1958)   \n",
       "12111    57669                             In Bruges (2008)   \n",
       "351        356                          Forrest Gump (1994)   \n",
       "3980      4084                  Beverly Hills Cop II (1987)   \n",
       "1000      1023  Winnie the Pooh and the Blustery Day (1968)   \n",
       "3214      3307                           City Lights (1931)   \n",
       "2334      2425                          General, The (1998)   \n",
       "\n",
       "                                  genres  \n",
       "519                              [Drama]  \n",
       "2172          [Drama, Fantasy, Thriller]  \n",
       "1921                     [Drama, Sci-Fi]  \n",
       "2849             [Musical, Romance, War]  \n",
       "12111   [Comedy, Crime, Drama, Thriller]  \n",
       "351        [Comedy, Drama, Romance, War]  \n",
       "3980   [Action, Comedy, Crime, Thriller]  \n",
       "1000      [Animation, Children, Musical]  \n",
       "3214            [Comedy, Drama, Romance]  \n",
       "2334                             [Crime]  "
      ]
     },
     "execution_count": 136,
     "metadata": {},
     "output_type": "execute_result"
    }
   ],
   "source": [
    "recommendation_by_user(user_test[4])"
   ]
  },
  {
   "cell_type": "markdown",
   "id": "fe309ca0",
   "metadata": {},
   "source": [
    "Kode di atas bertujuan untuk melakukan proses inference guna melihat langsung daftar top-k film yang direkomendasikan pada salah satu user dengan memanggil fungsi `recommendation_by_user()` hasil dari Collaborative Filtering dengan parameternya adalah `userId` yang tersimpan pada variabel `sample_users`. Hasilnya data informasi film seperti movieId, title, dan genres disimpan pada sebuah dataframe sehingga lebih mudah dipahami."
   ]
  },
  {
   "cell_type": "code",
   "execution_count": 138,
   "id": "8db2317e-1847-49e3-838b-70ad16940573",
   "metadata": {
    "execution": {
     "iopub.execute_input": "2025-05-23T14:45:18.555409Z",
     "iopub.status.busy": "2025-05-23T14:45:18.555018Z",
     "iopub.status.idle": "2025-05-23T14:45:18.687733Z",
     "shell.execute_reply": "2025-05-23T14:45:18.682353Z",
     "shell.execute_reply.started": "2025-05-23T14:45:18.555370Z"
    },
    "trusted": true
   },
   "outputs": [
    {
     "data": {
      "text/html": [
       "<div>\n",
       "<style scoped>\n",
       "    .dataframe tbody tr th:only-of-type {\n",
       "        vertical-align: middle;\n",
       "    }\n",
       "\n",
       "    .dataframe tbody tr th {\n",
       "        vertical-align: top;\n",
       "    }\n",
       "\n",
       "    .dataframe thead th {\n",
       "        text-align: right;\n",
       "    }\n",
       "</style>\n",
       "<table border=\"1\" class=\"dataframe\">\n",
       "  <thead>\n",
       "    <tr style=\"text-align: right;\">\n",
       "      <th></th>\n",
       "      <th>movieId</th>\n",
       "      <th>title</th>\n",
       "      <th>genres</th>\n",
       "    </tr>\n",
       "  </thead>\n",
       "  <tbody>\n",
       "    <tr>\n",
       "      <th>11959</th>\n",
       "      <td>56060</td>\n",
       "      <td>I Served the King of England (Obsluhoval jsem ...</td>\n",
       "      <td>['Comedy', 'Drama', 'Romance', 'War']</td>\n",
       "    </tr>\n",
       "    <tr>\n",
       "      <th>11073</th>\n",
       "      <td>48032</td>\n",
       "      <td>Tiger and the Snow, The (La tigre e la neve) (...</td>\n",
       "      <td>['Comedy', 'Drama', 'Romance', 'War']</td>\n",
       "    </tr>\n",
       "    <tr>\n",
       "      <th>19636</th>\n",
       "      <td>101950</td>\n",
       "      <td>Adventure for Two (1943)</td>\n",
       "      <td>['Comedy', 'Drama', 'Romance', 'War']</td>\n",
       "    </tr>\n",
       "    <tr>\n",
       "      <th>12454</th>\n",
       "      <td>60225</td>\n",
       "      <td>Tell It to the Marines (1926)</td>\n",
       "      <td>['Comedy', 'Drama', 'Romance', 'War']</td>\n",
       "    </tr>\n",
       "    <tr>\n",
       "      <th>53848</th>\n",
       "      <td>188263</td>\n",
       "      <td>Two Soldiers (1943)</td>\n",
       "      <td>['Comedy', 'Drama', 'Romance', 'War']</td>\n",
       "    </tr>\n",
       "    <tr>\n",
       "      <th>5905</th>\n",
       "      <td>6017</td>\n",
       "      <td>Divine Intervention (Yadon ilaheyya) (2002)</td>\n",
       "      <td>['Comedy', 'Drama', 'Romance', 'War']</td>\n",
       "    </tr>\n",
       "    <tr>\n",
       "      <th>2233</th>\n",
       "      <td>2324</td>\n",
       "      <td>Life Is Beautiful (La Vita è bella) (1997)</td>\n",
       "      <td>['Comedy', 'Drama', 'Romance', 'War']</td>\n",
       "    </tr>\n",
       "    <tr>\n",
       "      <th>12531</th>\n",
       "      <td>60641</td>\n",
       "      <td>Music Within (2007)</td>\n",
       "      <td>['Comedy', 'Drama', 'Romance', 'War']</td>\n",
       "    </tr>\n",
       "    <tr>\n",
       "      <th>45159</th>\n",
       "      <td>169756</td>\n",
       "      <td>Their Finest (2017)</td>\n",
       "      <td>['Comedy', 'Drama', 'Romance', 'War']</td>\n",
       "    </tr>\n",
       "    <tr>\n",
       "      <th>39114</th>\n",
       "      <td>156469</td>\n",
       "      <td>'Neath Brooklyn Bridge (1942)</td>\n",
       "      <td>['Comedy', 'Drama', 'Romance', 'War']</td>\n",
       "    </tr>\n",
       "  </tbody>\n",
       "</table>\n",
       "</div>"
      ],
      "text/plain": [
       "       movieId                                              title  \\\n",
       "11959    56060  I Served the King of England (Obsluhoval jsem ...   \n",
       "11073    48032  Tiger and the Snow, The (La tigre e la neve) (...   \n",
       "19636   101950                           Adventure for Two (1943)   \n",
       "12454    60225                      Tell It to the Marines (1926)   \n",
       "53848   188263                                Two Soldiers (1943)   \n",
       "5905      6017        Divine Intervention (Yadon ilaheyya) (2002)   \n",
       "2233      2324         Life Is Beautiful (La Vita è bella) (1997)   \n",
       "12531    60641                                Music Within (2007)   \n",
       "45159   169756                                Their Finest (2017)   \n",
       "39114   156469                      'Neath Brooklyn Bridge (1942)   \n",
       "\n",
       "                                      genres  \n",
       "11959  ['Comedy', 'Drama', 'Romance', 'War']  \n",
       "11073  ['Comedy', 'Drama', 'Romance', 'War']  \n",
       "19636  ['Comedy', 'Drama', 'Romance', 'War']  \n",
       "12454  ['Comedy', 'Drama', 'Romance', 'War']  \n",
       "53848  ['Comedy', 'Drama', 'Romance', 'War']  \n",
       "5905   ['Comedy', 'Drama', 'Romance', 'War']  \n",
       "2233   ['Comedy', 'Drama', 'Romance', 'War']  \n",
       "12531  ['Comedy', 'Drama', 'Romance', 'War']  \n",
       "45159  ['Comedy', 'Drama', 'Romance', 'War']  \n",
       "39114  ['Comedy', 'Drama', 'Romance', 'War']  "
      ]
     },
     "execution_count": 138,
     "metadata": {},
     "output_type": "execute_result"
    }
   ],
   "source": [
    "recommendation_by_genre(user_test[4], test_data)"
   ]
  },
  {
   "cell_type": "markdown",
   "id": "534eb8b9",
   "metadata": {},
   "source": [
    "Kode di atas bertujuan untuk melakukan proses inference guna melihat langsung daftar top-k film yang direkomendasikan pada salah satu user dengan memanggil fungsi `recommendation_by_genre()` hasil dari perhitungan Content-Based Filtering dengan parameternya adalah `userId` yang tersimpan pada variabel `sample_users` dan test dataset. Hasilnya data informasi film seperti movieId, title, dan genres disimpan pada sebuah dataframe sehingga lebih mudah dipahami."
   ]
  }
 ],
 "metadata": {
  "accelerator": "TPU",
  "colab": {
   "gpuType": "V28",
   "provenance": []
  },
  "kaggle": {
   "accelerator": "tpu1vmV38",
   "dataSources": [
    {
     "datasetId": 3375918,
     "sourceId": 5872805,
     "sourceType": "datasetVersion"
    }
   ],
   "dockerImageVersionId": 31042,
   "isGpuEnabled": false,
   "isInternetEnabled": true,
   "language": "python",
   "sourceType": "notebook"
  },
  "kernelspec": {
   "display_name": "Python 3",
   "language": "python",
   "name": "python3"
  },
  "language_info": {
   "codemirror_mode": {
    "name": "ipython",
    "version": 3
   },
   "file_extension": ".py",
   "mimetype": "text/x-python",
   "name": "python",
   "nbconvert_exporter": "python",
   "pygments_lexer": "ipython3",
   "version": "3.10.17"
  }
 },
 "nbformat": 4,
 "nbformat_minor": 5
}
